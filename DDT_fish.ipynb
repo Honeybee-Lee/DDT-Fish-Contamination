{
 "cells": [
  {
   "cell_type": "markdown",
   "id": "25b3080e",
   "metadata": {},
   "source": [
    "# Outline:\n",
    "1. Explore the problem/reason one would analyze the data set\n",
    "2. Exploratory Data Analysis (EDA)\n",
    "3. Modeling\n",
    "4. Conclusions\n",
    "5. Notes\n",
    "6. References\n",
    "\n",
    "**Problem definition:** The U.S. Army Corp of Engineers collected data of contaminated fish from toxic waste from a chemical plant located on the banks of a river in Alabama. Because of the river's location, these contaminated fish could contaminate other animals that may prey on the fish in a wide area.<br>\n",
    "\n",
    "**Variables:**\n",
    "- River\n",
    "    - Tennessee river\n",
    "    - Flint creek\n",
    "    - Limestone creek\n",
    "    - Spring creek\n",
    "- Mile\n",
    "- Species\n",
    "    - Channel Catfish\n",
    "    - Largemouth Bass\n",
    "    - Smallmouth buffalofish\n",
    "- Length\n",
    "    - Centimeters (cm)\n",
    "- Weight\n",
    "    - Grams (g)\n",
    "- DDT\n",
    "    - Parts per million (ppm)"
   ]
  },
  {
   "cell_type": "code",
   "execution_count": 2,
   "id": "633fa645",
   "metadata": {},
   "outputs": [],
   "source": [
    "# BASE ---------------------------------\n",
    "import numpy as np\n",
    "import pandas as pd\n",
    "from scipy import stats\n",
    "import math\n",
    "\n",
    "# VISUALIZATIONS -----------------------\n",
    "import matplotlib.pyplot as plt\n",
    "import seaborn as sns\n",
    "\n",
    "# MODELS -------------------------------\n",
    "\n",
    "\n",
    "# STYLES & CONFIGURATIONS --------------\n",
    "sns.set_theme(style='darkgrid')"
   ]
  },
  {
   "cell_type": "code",
   "execution_count": 3,
   "id": "582499e3",
   "metadata": {},
   "outputs": [],
   "source": [
    "df = pd.read_excel(r'C:\\Users\\chris\\Documents\\eng_stats_data\\Excel\\DDT.XLS')"
   ]
  },
  {
   "cell_type": "code",
   "execution_count": 4,
   "id": "c153452f",
   "metadata": {},
   "outputs": [
    {
     "name": "stdout",
     "output_type": "stream",
     "text": [
      "<class 'pandas.core.frame.DataFrame'>\n",
      "RangeIndex: 144 entries, 0 to 143\n",
      "Data columns (total 6 columns):\n",
      " #   Column   Non-Null Count  Dtype  \n",
      "---  ------   --------------  -----  \n",
      " 0   RIVER    144 non-null    object \n",
      " 1   MILE     144 non-null    int64  \n",
      " 2   SPECIES  144 non-null    object \n",
      " 3   LENGTH   144 non-null    float64\n",
      " 4   WEIGHT   144 non-null    int64  \n",
      " 5   DDT      144 non-null    float64\n",
      "dtypes: float64(2), int64(2), object(2)\n",
      "memory usage: 6.9+ KB\n"
     ]
    }
   ],
   "source": [
    "df.info()"
   ]
  },
  {
   "cell_type": "code",
   "execution_count": 5,
   "id": "32d0ae11",
   "metadata": {},
   "outputs": [
    {
     "name": "stdout",
     "output_type": "stream",
     "text": [
      "River:  ['FCM' 'LCM' 'SCM' 'TRM']\n",
      "Mile:  [  5   3   1 275 280 285 290 295 300 305 310 315 320 325 330 340 345]\n",
      "Species:  ['CCATFISH' 'SMBUFFALO' 'LMBASS']\n",
      "Length:  48  unique values\n",
      "Weight:  133  unique values\n",
      "DDT:  99  unique values\n"
     ]
    }
   ],
   "source": [
    "print('River: ', df.RIVER.unique())\n",
    "print('Mile: ', df.MILE.unique())\n",
    "print('Species: ', df.SPECIES.unique())\n",
    "print('Length: ', df.LENGTH.nunique(), ' unique values')\n",
    "print('Weight: ', df.WEIGHT.nunique(), ' unique values')\n",
    "print('DDT: ', df.DDT.nunique(), ' unique values')"
   ]
  },
  {
   "cell_type": "code",
   "execution_count": 6,
   "id": "60fb36ca",
   "metadata": {},
   "outputs": [],
   "source": [
    "# separate into numeric and categorical columns\n",
    "df_num = df.select_dtypes(include='number')\n",
    "df_cat = df.select_dtypes(include='object')"
   ]
  },
  {
   "cell_type": "code",
   "execution_count": 106,
   "id": "a09b27b0",
   "metadata": {},
   "outputs": [
    {
     "data": {
      "text/html": [
       "<div>\n",
       "<style scoped>\n",
       "    .dataframe tbody tr th:only-of-type {\n",
       "        vertical-align: middle;\n",
       "    }\n",
       "\n",
       "    .dataframe tbody tr th {\n",
       "        vertical-align: top;\n",
       "    }\n",
       "\n",
       "    .dataframe thead th {\n",
       "        text-align: right;\n",
       "    }\n",
       "</style>\n",
       "<table border=\"1\" class=\"dataframe\">\n",
       "  <thead>\n",
       "    <tr style=\"text-align: right;\">\n",
       "      <th></th>\n",
       "      <th>MILE</th>\n",
       "      <th>LENGTH</th>\n",
       "      <th>WEIGHT</th>\n",
       "      <th>DDT</th>\n",
       "    </tr>\n",
       "  </thead>\n",
       "  <tbody>\n",
       "    <tr>\n",
       "      <th>count</th>\n",
       "      <td>144.000000</td>\n",
       "      <td>144.000000</td>\n",
       "      <td>144.000000</td>\n",
       "      <td>144.000000</td>\n",
       "    </tr>\n",
       "    <tr>\n",
       "      <th>mean</th>\n",
       "      <td>268.569444</td>\n",
       "      <td>42.812500</td>\n",
       "      <td>1049.715278</td>\n",
       "      <td>24.355000</td>\n",
       "    </tr>\n",
       "    <tr>\n",
       "      <th>std</th>\n",
       "      <td>102.580526</td>\n",
       "      <td>6.882093</td>\n",
       "      <td>376.546112</td>\n",
       "      <td>98.378585</td>\n",
       "    </tr>\n",
       "    <tr>\n",
       "      <th>min</th>\n",
       "      <td>1.000000</td>\n",
       "      <td>17.500000</td>\n",
       "      <td>173.000000</td>\n",
       "      <td>0.110000</td>\n",
       "    </tr>\n",
       "    <tr>\n",
       "      <th>25%</th>\n",
       "      <td>283.750000</td>\n",
       "      <td>40.500000</td>\n",
       "      <td>805.500000</td>\n",
       "      <td>3.375000</td>\n",
       "    </tr>\n",
       "    <tr>\n",
       "      <th>50%</th>\n",
       "      <td>300.000000</td>\n",
       "      <td>45.000000</td>\n",
       "      <td>1000.000000</td>\n",
       "      <td>7.150000</td>\n",
       "    </tr>\n",
       "    <tr>\n",
       "      <th>75%</th>\n",
       "      <td>320.000000</td>\n",
       "      <td>47.500000</td>\n",
       "      <td>1257.750000</td>\n",
       "      <td>13.000000</td>\n",
       "    </tr>\n",
       "    <tr>\n",
       "      <th>max</th>\n",
       "      <td>345.000000</td>\n",
       "      <td>52.000000</td>\n",
       "      <td>2302.000000</td>\n",
       "      <td>1100.000000</td>\n",
       "    </tr>\n",
       "  </tbody>\n",
       "</table>\n",
       "</div>"
      ],
      "text/plain": [
       "             MILE      LENGTH       WEIGHT          DDT\n",
       "count  144.000000  144.000000   144.000000   144.000000\n",
       "mean   268.569444   42.812500  1049.715278    24.355000\n",
       "std    102.580526    6.882093   376.546112    98.378585\n",
       "min      1.000000   17.500000   173.000000     0.110000\n",
       "25%    283.750000   40.500000   805.500000     3.375000\n",
       "50%    300.000000   45.000000  1000.000000     7.150000\n",
       "75%    320.000000   47.500000  1257.750000    13.000000\n",
       "max    345.000000   52.000000  2302.000000  1100.000000"
      ]
     },
     "execution_count": 106,
     "metadata": {},
     "output_type": "execute_result"
    }
   ],
   "source": [
    "df_num.describe()"
   ]
  },
  {
   "cell_type": "code",
   "execution_count": 8,
   "id": "9bcfd954",
   "metadata": {},
   "outputs": [
    {
     "data": {
      "text/html": [
       "<div>\n",
       "<style scoped>\n",
       "    .dataframe tbody tr th:only-of-type {\n",
       "        vertical-align: middle;\n",
       "    }\n",
       "\n",
       "    .dataframe tbody tr th {\n",
       "        vertical-align: top;\n",
       "    }\n",
       "\n",
       "    .dataframe thead th {\n",
       "        text-align: right;\n",
       "    }\n",
       "</style>\n",
       "<table border=\"1\" class=\"dataframe\">\n",
       "  <thead>\n",
       "    <tr style=\"text-align: right;\">\n",
       "      <th></th>\n",
       "      <th>RIVER</th>\n",
       "      <th>SPECIES</th>\n",
       "    </tr>\n",
       "  </thead>\n",
       "  <tbody>\n",
       "    <tr>\n",
       "      <th>0</th>\n",
       "      <td>FCM</td>\n",
       "      <td>CCATFISH</td>\n",
       "    </tr>\n",
       "    <tr>\n",
       "      <th>1</th>\n",
       "      <td>FCM</td>\n",
       "      <td>CCATFISH</td>\n",
       "    </tr>\n",
       "    <tr>\n",
       "      <th>2</th>\n",
       "      <td>FCM</td>\n",
       "      <td>CCATFISH</td>\n",
       "    </tr>\n",
       "    <tr>\n",
       "      <th>3</th>\n",
       "      <td>FCM</td>\n",
       "      <td>CCATFISH</td>\n",
       "    </tr>\n",
       "    <tr>\n",
       "      <th>4</th>\n",
       "      <td>FCM</td>\n",
       "      <td>CCATFISH</td>\n",
       "    </tr>\n",
       "    <tr>\n",
       "      <th>...</th>\n",
       "      <td>...</td>\n",
       "      <td>...</td>\n",
       "    </tr>\n",
       "    <tr>\n",
       "      <th>139</th>\n",
       "      <td>TRM</td>\n",
       "      <td>LMBASS</td>\n",
       "    </tr>\n",
       "    <tr>\n",
       "      <th>140</th>\n",
       "      <td>TRM</td>\n",
       "      <td>LMBASS</td>\n",
       "    </tr>\n",
       "    <tr>\n",
       "      <th>141</th>\n",
       "      <td>TRM</td>\n",
       "      <td>LMBASS</td>\n",
       "    </tr>\n",
       "    <tr>\n",
       "      <th>142</th>\n",
       "      <td>TRM</td>\n",
       "      <td>LMBASS</td>\n",
       "    </tr>\n",
       "    <tr>\n",
       "      <th>143</th>\n",
       "      <td>TRM</td>\n",
       "      <td>LMBASS</td>\n",
       "    </tr>\n",
       "  </tbody>\n",
       "</table>\n",
       "<p>144 rows × 2 columns</p>\n",
       "</div>"
      ],
      "text/plain": [
       "    RIVER   SPECIES\n",
       "0     FCM  CCATFISH\n",
       "1     FCM  CCATFISH\n",
       "2     FCM  CCATFISH\n",
       "3     FCM  CCATFISH\n",
       "4     FCM  CCATFISH\n",
       "..    ...       ...\n",
       "139   TRM    LMBASS\n",
       "140   TRM    LMBASS\n",
       "141   TRM    LMBASS\n",
       "142   TRM    LMBASS\n",
       "143   TRM    LMBASS\n",
       "\n",
       "[144 rows x 2 columns]"
      ]
     },
     "execution_count": 8,
     "metadata": {},
     "output_type": "execute_result"
    }
   ],
   "source": [
    "df_cat"
   ]
  },
  {
   "cell_type": "code",
   "execution_count": 9,
   "id": "d5101823",
   "metadata": {},
   "outputs": [
    {
     "data": {
      "text/plain": [
       "count    144.000000\n",
       "mean     268.569444\n",
       "std      102.580526\n",
       "min        1.000000\n",
       "25%      283.750000\n",
       "50%      300.000000\n",
       "75%      320.000000\n",
       "max      345.000000\n",
       "Name: MILE, dtype: float64"
      ]
     },
     "execution_count": 9,
     "metadata": {},
     "output_type": "execute_result"
    }
   ],
   "source": [
    "df['MILE'].describe()"
   ]
  },
  {
   "cell_type": "code",
   "execution_count": 10,
   "id": "d0aed9be",
   "metadata": {},
   "outputs": [
    {
     "data": {
      "text/plain": [
       "count    144.000000\n",
       "mean      42.812500\n",
       "std        6.882093\n",
       "min       17.500000\n",
       "25%       40.500000\n",
       "50%       45.000000\n",
       "75%       47.500000\n",
       "max       52.000000\n",
       "Name: LENGTH, dtype: float64"
      ]
     },
     "execution_count": 10,
     "metadata": {},
     "output_type": "execute_result"
    }
   ],
   "source": [
    "df['LENGTH'].describe()"
   ]
  },
  {
   "cell_type": "code",
   "execution_count": 11,
   "id": "85a69ecb",
   "metadata": {},
   "outputs": [
    {
     "data": {
      "text/plain": [
       "count     144.000000\n",
       "mean     1049.715278\n",
       "std       376.546112\n",
       "min       173.000000\n",
       "25%       805.500000\n",
       "50%      1000.000000\n",
       "75%      1257.750000\n",
       "max      2302.000000\n",
       "Name: WEIGHT, dtype: float64"
      ]
     },
     "execution_count": 11,
     "metadata": {},
     "output_type": "execute_result"
    }
   ],
   "source": [
    "df['WEIGHT'].describe()"
   ]
  },
  {
   "cell_type": "code",
   "execution_count": 12,
   "id": "420fa0bd",
   "metadata": {},
   "outputs": [
    {
     "data": {
      "text/plain": [
       "count     144.000000\n",
       "mean       24.355000\n",
       "std        98.378585\n",
       "min         0.110000\n",
       "25%         3.375000\n",
       "50%         7.150000\n",
       "75%        13.000000\n",
       "max      1100.000000\n",
       "Name: DDT, dtype: float64"
      ]
     },
     "execution_count": 12,
     "metadata": {},
     "output_type": "execute_result"
    }
   ],
   "source": [
    "df['DDT'].describe()"
   ]
  },
  {
   "cell_type": "code",
   "execution_count": 13,
   "id": "099cf9c8",
   "metadata": {},
   "outputs": [
    {
     "name": "stdout",
     "output_type": "stream",
     "text": [
      "Mean:  24.354999999999997\n",
      "Standard deviation:  98.37858541639775\n",
      "Interquartile range:  9.625\n"
     ]
    }
   ],
   "source": [
    "print('Mean: ', df.DDT.mean())\n",
    "print('Standard deviation: ', df.DDT.std())\n",
    "print('Interquartile range: ', df.DDT.quantile(0.75) - df.DDT.quantile(0.25))"
   ]
  },
  {
   "cell_type": "code",
   "execution_count": 14,
   "id": "07234a87",
   "metadata": {},
   "outputs": [
    {
     "data": {
      "text/plain": [
       "0.25      3.375\n",
       "0.50      7.150\n",
       "0.75     13.000\n",
       "0.95     60.400\n",
       "0.99    282.600\n",
       "Name: DDT, dtype: float64"
      ]
     },
     "execution_count": 14,
     "metadata": {},
     "output_type": "execute_result"
    }
   ],
   "source": [
    "# Percentiles of DDT ppm\n",
    "df['DDT'].quantile([0.25, 0.50, 0.75, 0.95, 0.99])"
   ]
  },
  {
   "cell_type": "code",
   "execution_count": 105,
   "id": "546c3a46",
   "metadata": {},
   "outputs": [
    {
     "data": {
      "image/png": "[encoded data removed]",
      "text/plain": [
       "<Figure size 640x480 with 1 Axes>"
      ]
     },
     "metadata": {},
     "output_type": "display_data"
    },
    {
     "data": {
      "text/plain": [
       "<Figure size 640x480 with 0 Axes>"
      ]
     },
     "metadata": {},
     "output_type": "display_data"
    }
   ],
   "source": [
    "# box plots\n",
    "\n",
    "weight = sns.boxplot(x=df.WEIGHT.values, data=df, orient='h', width=0.8)\n",
    "weight.set_title('WEIGHT')\n",
    "plt.show()"
   ]
  },
  {
   "cell_type": "code",
   "execution_count": 104,
   "id": "53632d29",
   "metadata": {},
   "outputs": [
    {
     "data": {
      "image/png": "[encoded data removed]",
      "text/plain": [
       "<Figure size 640x480 with 1 Axes>"
      ]
     },
     "metadata": {},
     "output_type": "display_data"
    },
    {
     "data": {
      "text/plain": [
       "<Figure size 640x480 with 0 Axes>"
      ]
     },
     "metadata": {},
     "output_type": "display_data"
    }
   ],
   "source": [
    "ddt = sns.boxplot(x=df.DDT.values, data=df, orient='h')\n",
    "ddt.set_title('DDT')\n",
    "plt.show()\n",
    "\n",
    "# clearly there are some outliers that may warrant further investigation"
   ]
  },
  {
   "cell_type": "code",
   "execution_count": 103,
   "id": "45ba75ad",
   "metadata": {},
   "outputs": [
    {
     "data": {
      "image/png": "[encoded data removed]",
      "text/plain": [
       "<Figure size 640x480 with 1 Axes>"
      ]
     },
     "metadata": {},
     "output_type": "display_data"
    },
    {
     "data": {
      "text/plain": [
       "<Figure size 640x480 with 0 Axes>"
      ]
     },
     "metadata": {},
     "output_type": "display_data"
    }
   ],
   "source": [
    "# making dataframe without max values to see what it looks like, so less than 100\n",
    "df_ddt = df[df['DDT']<100]\n",
    "ddt = sns.boxplot(x=df_ddt.DDT.values, data=df_ddt, orient='h')\n",
    "ddt.set_title('DDT')\n",
    "plt.show()"
   ]
  },
  {
   "cell_type": "code",
   "execution_count": 102,
   "id": "f338f0b4",
   "metadata": {},
   "outputs": [
    {
     "data": {
      "image/png": "[encoded data removed]",
      "text/plain": [
       "<Figure size 640x480 with 1 Axes>"
      ]
     },
     "metadata": {},
     "output_type": "display_data"
    },
    {
     "data": {
      "text/plain": [
       "<Figure size 640x480 with 0 Axes>"
      ]
     },
     "metadata": {},
     "output_type": "display_data"
    }
   ],
   "source": [
    "length = sns.boxplot(x=df.LENGTH.values, width=0.8)\n",
    "length.set_title('Length')\n",
    "plt.show()"
   ]
  },
  {
   "cell_type": "code",
   "execution_count": 21,
   "id": "afd7e8df",
   "metadata": {},
   "outputs": [
    {
     "data": {
      "text/html": [
       "<div>\n",
       "<style scoped>\n",
       "    .dataframe tbody tr th:only-of-type {\n",
       "        vertical-align: middle;\n",
       "    }\n",
       "\n",
       "    .dataframe tbody tr th {\n",
       "        vertical-align: top;\n",
       "    }\n",
       "\n",
       "    .dataframe thead th {\n",
       "        text-align: right;\n",
       "    }\n",
       "</style>\n",
       "<table border=\"1\" class=\"dataframe\">\n",
       "  <thead>\n",
       "    <tr style=\"text-align: right;\">\n",
       "      <th></th>\n",
       "      <th>RIVER</th>\n",
       "      <th>MILE</th>\n",
       "      <th>SPECIES</th>\n",
       "      <th>LENGTH</th>\n",
       "      <th>WEIGHT</th>\n",
       "      <th>DDT</th>\n",
       "    </tr>\n",
       "  </thead>\n",
       "  <tbody>\n",
       "    <tr>\n",
       "      <th>5</th>\n",
       "      <td>FCM</td>\n",
       "      <td>5</td>\n",
       "      <td>CCATFISH</td>\n",
       "      <td>52.0</td>\n",
       "      <td>1255</td>\n",
       "      <td>150.0</td>\n",
       "    </tr>\n",
       "    <tr>\n",
       "      <th>104</th>\n",
       "      <td>TRM</td>\n",
       "      <td>320</td>\n",
       "      <td>CCATFISH</td>\n",
       "      <td>49.5</td>\n",
       "      <td>1255</td>\n",
       "      <td>360.0</td>\n",
       "    </tr>\n",
       "    <tr>\n",
       "      <th>105</th>\n",
       "      <td>TRM</td>\n",
       "      <td>320</td>\n",
       "      <td>CCATFISH</td>\n",
       "      <td>47.0</td>\n",
       "      <td>1152</td>\n",
       "      <td>130.0</td>\n",
       "    </tr>\n",
       "    <tr>\n",
       "      <th>114</th>\n",
       "      <td>TRM</td>\n",
       "      <td>325</td>\n",
       "      <td>CCATFISH</td>\n",
       "      <td>46.0</td>\n",
       "      <td>863</td>\n",
       "      <td>1100.0</td>\n",
       "    </tr>\n",
       "    <tr>\n",
       "      <th>122</th>\n",
       "      <td>TRM</td>\n",
       "      <td>330</td>\n",
       "      <td>CCATFISH</td>\n",
       "      <td>51.5</td>\n",
       "      <td>1229</td>\n",
       "      <td>140.0</td>\n",
       "    </tr>\n",
       "    <tr>\n",
       "      <th>129</th>\n",
       "      <td>TRM</td>\n",
       "      <td>340</td>\n",
       "      <td>CCATFISH</td>\n",
       "      <td>45.0</td>\n",
       "      <td>911</td>\n",
       "      <td>180.0</td>\n",
       "    </tr>\n",
       "  </tbody>\n",
       "</table>\n",
       "</div>"
      ],
      "text/plain": [
       "    RIVER  MILE   SPECIES  LENGTH  WEIGHT     DDT\n",
       "5     FCM     5  CCATFISH    52.0    1255   150.0\n",
       "104   TRM   320  CCATFISH    49.5    1255   360.0\n",
       "105   TRM   320  CCATFISH    47.0    1152   130.0\n",
       "114   TRM   325  CCATFISH    46.0     863  1100.0\n",
       "122   TRM   330  CCATFISH    51.5    1229   140.0\n",
       "129   TRM   340  CCATFISH    45.0     911   180.0"
      ]
     },
     "execution_count": 21,
     "metadata": {},
     "output_type": "execute_result"
    }
   ],
   "source": [
    "# lets look at the max ddt value\n",
    "max_vals_ddt = df[df['DDT']> 100]\n",
    "max_vals_ddt"
   ]
  },
  {
   "cell_type": "code",
   "execution_count": 22,
   "id": "d329f013",
   "metadata": {},
   "outputs": [
    {
     "data": {
      "text/html": [
       "<div>\n",
       "<style scoped>\n",
       "    .dataframe tbody tr th:only-of-type {\n",
       "        vertical-align: middle;\n",
       "    }\n",
       "\n",
       "    .dataframe tbody tr th {\n",
       "        vertical-align: top;\n",
       "    }\n",
       "\n",
       "    .dataframe thead th {\n",
       "        text-align: right;\n",
       "    }\n",
       "</style>\n",
       "<table border=\"1\" class=\"dataframe\">\n",
       "  <thead>\n",
       "    <tr style=\"text-align: right;\">\n",
       "      <th></th>\n",
       "      <th>RIVER</th>\n",
       "      <th>MILE</th>\n",
       "      <th>SPECIES</th>\n",
       "      <th>LENGTH</th>\n",
       "      <th>WEIGHT</th>\n",
       "      <th>DDT</th>\n",
       "    </tr>\n",
       "  </thead>\n",
       "  <tbody>\n",
       "    <tr>\n",
       "      <th>32</th>\n",
       "      <td>TRM</td>\n",
       "      <td>280</td>\n",
       "      <td>SMBUFFALO</td>\n",
       "      <td>52.0</td>\n",
       "      <td>2302</td>\n",
       "      <td>3.0</td>\n",
       "    </tr>\n",
       "    <tr>\n",
       "      <th>35</th>\n",
       "      <td>TRM</td>\n",
       "      <td>280</td>\n",
       "      <td>SMBUFFALO</td>\n",
       "      <td>48.0</td>\n",
       "      <td>2006</td>\n",
       "      <td>6.8</td>\n",
       "    </tr>\n",
       "    <tr>\n",
       "      <th>92</th>\n",
       "      <td>TRM</td>\n",
       "      <td>310</td>\n",
       "      <td>SMBUFFALO</td>\n",
       "      <td>48.5</td>\n",
       "      <td>2061</td>\n",
       "      <td>2.8</td>\n",
       "    </tr>\n",
       "  </tbody>\n",
       "</table>\n",
       "</div>"
      ],
      "text/plain": [
       "   RIVER  MILE    SPECIES  LENGTH  WEIGHT  DDT\n",
       "32   TRM   280  SMBUFFALO    52.0    2302  3.0\n",
       "35   TRM   280  SMBUFFALO    48.0    2006  6.8\n",
       "92   TRM   310  SMBUFFALO    48.5    2061  2.8"
      ]
     },
     "execution_count": 22,
     "metadata": {},
     "output_type": "execute_result"
    }
   ],
   "source": [
    "max_vals_weight = df[df['WEIGHT']>2000]\n",
    "max_vals_weight"
   ]
  },
  {
   "cell_type": "code",
   "execution_count": 31,
   "id": "5c892e99",
   "metadata": {},
   "outputs": [],
   "source": [
    "# frequency tables"
   ]
  },
  {
   "cell_type": "code",
   "execution_count": 20,
   "id": "4a088469",
   "metadata": {},
   "outputs": [
    {
     "data": {
      "text/html": [
       "<div>\n",
       "<style scoped>\n",
       "    .dataframe tbody tr th:only-of-type {\n",
       "        vertical-align: middle;\n",
       "    }\n",
       "\n",
       "    .dataframe tbody tr th {\n",
       "        vertical-align: top;\n",
       "    }\n",
       "\n",
       "    .dataframe thead th {\n",
       "        text-align: right;\n",
       "    }\n",
       "</style>\n",
       "<table border=\"1\" class=\"dataframe\">\n",
       "  <thead>\n",
       "    <tr style=\"text-align: right;\">\n",
       "      <th></th>\n",
       "      <th></th>\n",
       "      <th>SPECIES</th>\n",
       "    </tr>\n",
       "    <tr>\n",
       "      <th>RIVER</th>\n",
       "      <th>SPECIES</th>\n",
       "      <th></th>\n",
       "    </tr>\n",
       "  </thead>\n",
       "  <tbody>\n",
       "    <tr>\n",
       "      <th>FCM</th>\n",
       "      <th>CCATFISH</th>\n",
       "      <td>6</td>\n",
       "    </tr>\n",
       "    <tr>\n",
       "      <th>LCM</th>\n",
       "      <th>CCATFISH</th>\n",
       "      <td>6</td>\n",
       "    </tr>\n",
       "    <tr>\n",
       "      <th>SCM</th>\n",
       "      <th>CCATFISH</th>\n",
       "      <td>6</td>\n",
       "    </tr>\n",
       "    <tr>\n",
       "      <th rowspan=\"3\" valign=\"top\">TRM</th>\n",
       "      <th>CCATFISH</th>\n",
       "      <td>78</td>\n",
       "    </tr>\n",
       "    <tr>\n",
       "      <th>SMBUFFALO</th>\n",
       "      <td>36</td>\n",
       "    </tr>\n",
       "    <tr>\n",
       "      <th>LMBASS</th>\n",
       "      <td>12</td>\n",
       "    </tr>\n",
       "  </tbody>\n",
       "</table>\n",
       "</div>"
      ],
      "text/plain": [
       "                 SPECIES\n",
       "RIVER SPECIES           \n",
       "FCM   CCATFISH         6\n",
       "LCM   CCATFISH         6\n",
       "SCM   CCATFISH         6\n",
       "TRM   CCATFISH        78\n",
       "      SMBUFFALO       36\n",
       "      LMBASS          12"
      ]
     },
     "execution_count": 20,
     "metadata": {},
     "output_type": "execute_result"
    }
   ],
   "source": [
    "df_freq = df.groupby('RIVER')['SPECIES'].value_counts().to_frame()\n",
    "df_freq"
   ]
  },
  {
   "cell_type": "code",
   "execution_count": 101,
   "id": "c98889c1",
   "metadata": {},
   "outputs": [
    {
     "data": {
      "image/png": "[encoded data removed]",
      "text/plain": [
       "<Figure size 640x480 with 4 Axes>"
      ]
     },
     "metadata": {},
     "output_type": "display_data"
    }
   ],
   "source": [
    "# HISTOGRAMS\n",
    "# take out ddt outliers\n",
    "df = df[df['DDT']<400]\n",
    "df.hist(bins=25)"
   ]
  },
  {
   "cell_type": "code",
   "execution_count": 100,
   "id": "bc640071",
   "metadata": {},
   "outputs": [
    {
     "data": {
      "image/png": "[encoded data removed]",
      "text/plain": [
       "<Figure size 2000x1000 with 4 Axes>"
      ]
     },
     "metadata": {},
     "output_type": "display_data"
    },
    {
     "data": {
      "text/plain": [
       "<Figure size 640x480 with 0 Axes>"
      ]
     },
     "metadata": {},
     "output_type": "display_data"
    }
   ],
   "source": [
    "fig, axes = plt.subplots(2, 2, figsize=(20,10))\n",
    "fig.subplots_adjust(wspace=0.1, hspace=0.3)\n",
    "\n",
    "axes = axes.ravel()\n",
    "\n",
    "for i, col in enumerate(df_num):\n",
    "    sns.histplot(data = df[col], ax=axes[i], kde=True)\n",
    "plt.show()"
   ]
  },
  {
   "cell_type": "code",
   "execution_count": 49,
   "id": "81059b0b",
   "metadata": {},
   "outputs": [
    {
     "name": "stdout",
     "output_type": "stream",
     "text": [
      "# of unique values:  17\n",
      "300    12\n",
      "310    12\n",
      "280    12\n",
      "285    12\n",
      "290    12\n",
      "320    11\n",
      "340    10\n",
      "330     8\n",
      "315     6\n",
      "5       6\n",
      "305     6\n",
      "3       6\n",
      "295     6\n",
      "275     6\n",
      "1       6\n",
      "345     6\n",
      "325     5\n",
      "Name: MILE, dtype: int64\n",
      "proportion under 200:  0.1267605633802817\n"
     ]
    }
   ],
   "source": [
    "# value counts of MILE\n",
    "print('# of unique values: ', df['MILE'].nunique())\n",
    "print(df['MILE'].value_counts())\n",
    "print('proportion under 200: ', len(df[df['MILE']<200])/len(df))"
   ]
  },
  {
   "cell_type": "markdown",
   "id": "873759ed",
   "metadata": {},
   "source": [
    "IDK, I don't like the way this column is distributed. I could just be a little too buzzed right now, but I am going to drop it for now..."
   ]
  },
  {
   "cell_type": "code",
   "execution_count": 99,
   "id": "5989c997",
   "metadata": {},
   "outputs": [
    {
     "data": {
      "image/png": "[encoded data removed]",
      "text/plain": [
       "<Figure size 640x480 with 1 Axes>"
      ]
     },
     "metadata": {},
     "output_type": "display_data"
    }
   ],
   "source": [
    "df.RIVER.value_counts().plot(kind='bar', color = ['steelblue', 'lightblue', 'lightblue', 'lightblue'])"
   ]
  },
  {
   "cell_type": "code",
   "execution_count": 98,
   "id": "a8d351ad",
   "metadata": {},
   "outputs": [
    {
     "data": {
      "image/png": "[encoded data removed]",
      "text/plain": [
       "<Figure size 640x480 with 1 Axes>"
      ]
     },
     "metadata": {},
     "output_type": "display_data"
    }
   ],
   "source": [
    "df.SPECIES.value_counts().plot(kind='bar', stacked=True, color=['lightblue', 'aquamarine', 'gold'])"
   ]
  },
  {
   "cell_type": "code",
   "execution_count": 83,
   "id": "17c136fb",
   "metadata": {},
   "outputs": [
    {
     "data": {
      "text/html": [
       "<div>\n",
       "<style scoped>\n",
       "    .dataframe tbody tr th:only-of-type {\n",
       "        vertical-align: middle;\n",
       "    }\n",
       "\n",
       "    .dataframe tbody tr th {\n",
       "        vertical-align: top;\n",
       "    }\n",
       "\n",
       "    .dataframe thead th {\n",
       "        text-align: right;\n",
       "    }\n",
       "</style>\n",
       "<table border=\"1\" class=\"dataframe\">\n",
       "  <thead>\n",
       "    <tr style=\"text-align: right;\">\n",
       "      <th></th>\n",
       "      <th>RIVER</th>\n",
       "      <th>MILE</th>\n",
       "      <th>SPECIES</th>\n",
       "      <th>LENGTH</th>\n",
       "      <th>WEIGHT</th>\n",
       "      <th>DDT</th>\n",
       "    </tr>\n",
       "  </thead>\n",
       "  <tbody>\n",
       "    <tr>\n",
       "      <th>0</th>\n",
       "      <td>FCM</td>\n",
       "      <td>5</td>\n",
       "      <td>CCATFISH</td>\n",
       "      <td>42.5</td>\n",
       "      <td>732</td>\n",
       "      <td>10.00</td>\n",
       "    </tr>\n",
       "    <tr>\n",
       "      <th>1</th>\n",
       "      <td>FCM</td>\n",
       "      <td>5</td>\n",
       "      <td>CCATFISH</td>\n",
       "      <td>44.0</td>\n",
       "      <td>795</td>\n",
       "      <td>16.00</td>\n",
       "    </tr>\n",
       "    <tr>\n",
       "      <th>2</th>\n",
       "      <td>FCM</td>\n",
       "      <td>5</td>\n",
       "      <td>CCATFISH</td>\n",
       "      <td>41.5</td>\n",
       "      <td>547</td>\n",
       "      <td>23.00</td>\n",
       "    </tr>\n",
       "    <tr>\n",
       "      <th>3</th>\n",
       "      <td>FCM</td>\n",
       "      <td>5</td>\n",
       "      <td>CCATFISH</td>\n",
       "      <td>39.0</td>\n",
       "      <td>465</td>\n",
       "      <td>21.00</td>\n",
       "    </tr>\n",
       "    <tr>\n",
       "      <th>4</th>\n",
       "      <td>FCM</td>\n",
       "      <td>5</td>\n",
       "      <td>CCATFISH</td>\n",
       "      <td>50.5</td>\n",
       "      <td>1252</td>\n",
       "      <td>50.00</td>\n",
       "    </tr>\n",
       "    <tr>\n",
       "      <th>...</th>\n",
       "      <td>...</td>\n",
       "      <td>...</td>\n",
       "      <td>...</td>\n",
       "      <td>...</td>\n",
       "      <td>...</td>\n",
       "      <td>...</td>\n",
       "    </tr>\n",
       "    <tr>\n",
       "      <th>139</th>\n",
       "      <td>TRM</td>\n",
       "      <td>345</td>\n",
       "      <td>LMBASS</td>\n",
       "      <td>23.5</td>\n",
       "      <td>358</td>\n",
       "      <td>2.00</td>\n",
       "    </tr>\n",
       "    <tr>\n",
       "      <th>140</th>\n",
       "      <td>TRM</td>\n",
       "      <td>345</td>\n",
       "      <td>LMBASS</td>\n",
       "      <td>30.0</td>\n",
       "      <td>856</td>\n",
       "      <td>2.20</td>\n",
       "    </tr>\n",
       "    <tr>\n",
       "      <th>141</th>\n",
       "      <td>TRM</td>\n",
       "      <td>345</td>\n",
       "      <td>LMBASS</td>\n",
       "      <td>29.0</td>\n",
       "      <td>793</td>\n",
       "      <td>7.40</td>\n",
       "    </tr>\n",
       "    <tr>\n",
       "      <th>142</th>\n",
       "      <td>TRM</td>\n",
       "      <td>345</td>\n",
       "      <td>LMBASS</td>\n",
       "      <td>17.5</td>\n",
       "      <td>173</td>\n",
       "      <td>0.35</td>\n",
       "    </tr>\n",
       "    <tr>\n",
       "      <th>143</th>\n",
       "      <td>TRM</td>\n",
       "      <td>345</td>\n",
       "      <td>LMBASS</td>\n",
       "      <td>36.0</td>\n",
       "      <td>1433</td>\n",
       "      <td>1.90</td>\n",
       "    </tr>\n",
       "  </tbody>\n",
       "</table>\n",
       "<p>142 rows × 6 columns</p>\n",
       "</div>"
      ],
      "text/plain": [
       "    RIVER  MILE   SPECIES  LENGTH  WEIGHT    DDT\n",
       "0     FCM     5  CCATFISH    42.5     732  10.00\n",
       "1     FCM     5  CCATFISH    44.0     795  16.00\n",
       "2     FCM     5  CCATFISH    41.5     547  23.00\n",
       "3     FCM     5  CCATFISH    39.0     465  21.00\n",
       "4     FCM     5  CCATFISH    50.5    1252  50.00\n",
       "..    ...   ...       ...     ...     ...    ...\n",
       "139   TRM   345    LMBASS    23.5     358   2.00\n",
       "140   TRM   345    LMBASS    30.0     856   2.20\n",
       "141   TRM   345    LMBASS    29.0     793   7.40\n",
       "142   TRM   345    LMBASS    17.5     173   0.35\n",
       "143   TRM   345    LMBASS    36.0    1433   1.90\n",
       "\n",
       "[142 rows x 6 columns]"
      ]
     },
     "execution_count": 83,
     "metadata": {},
     "output_type": "execute_result"
    }
   ],
   "source": [
    "df"
   ]
  },
  {
   "cell_type": "code",
   "execution_count": 97,
   "id": "a827f3d2",
   "metadata": {},
   "outputs": [
    {
     "data": {
      "image/png": "[encoded data removed]",
      "text/plain": [
       "<Figure size 1000x600 with 2 Axes>"
      ]
     },
     "metadata": {},
     "output_type": "display_data"
    }
   ],
   "source": [
    "# set figure size\n",
    "plt.figure(figsize=(10,6))\n",
    "\n",
    "# correlation heatmap\n",
    "sns.heatmap(df.corr(), annot=True, vmin=0, vmax=1, cmap=\"rocket_r\")\n",
    "plt.show()"
   ]
  },
  {
   "cell_type": "markdown",
   "id": "8c406b3d",
   "metadata": {},
   "source": [
    "### Notes:"
   ]
  },
  {
   "cell_type": "code",
   "execution_count": null,
   "id": "ba8f8b62",
   "metadata": {},
   "outputs": [],
   "source": []
  }
 ],
 "metadata": {
  "kernelspec": {
   "display_name": "Python 3 (ipykernel)",
   "language": "python",
   "name": "python3"
  },
  "language_info": {
   "codemirror_mode": {
    "name": "ipython",
    "version": 3
   },
   "file_extension": ".py",
   "mimetype": "text/x-python",
   "name": "python",
   "nbconvert_exporter": "python",
   "pygments_lexer": "ipython3",
   "version": "3.9.13"
  }
 },
 "nbformat": 4,
 "nbformat_minor": 5
}
